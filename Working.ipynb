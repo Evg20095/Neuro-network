{
  "nbformat": 4,
  "nbformat_minor": 0,
  "metadata": {
    "colab": {
      "name": "Working.ipynb",
      "provenance": [],
      "collapsed_sections": [],
      "toc_visible": true,
      "mount_file_id": "1DzJoJEPMsHjalYa9GbTY_EqNsdEGeaHW",
      "authorship_tag": "ABX9TyPdtXfq7rGja717TCKhVi+/",
      "include_colab_link": true
    },
    "kernelspec": {
      "name": "python3",
      "display_name": "Python 3"
    },
    "accelerator": "GPU"
  },
  "cells": [
    {
      "cell_type": "markdown",
      "metadata": {
        "id": "view-in-github",
        "colab_type": "text"
      },
      "source": [
        "<a href=\"https://colab.research.google.com/github/Evg20095/Neuro-network/blob/master/Working.ipynb\" target=\"_parent\"><img src=\"https://colab.research.google.com/assets/colab-badge.svg\" alt=\"Open In Colab\"/></a>"
      ]
    },
    {
      "cell_type": "code",
      "metadata": {
        "id": "qzB3sLDJKkn8",
        "colab_type": "code",
        "outputId": "09fc6797-a094-4394-a4d7-e7206d092816",
        "colab": {
          "base_uri": "https://localhost:8080/",
          "height": 122
        }
      },
      "source": [
        "from google.colab import drive\n",
        "drive.mount('/content/gdrive')"
      ],
      "execution_count": 0,
      "outputs": [
        {
          "output_type": "stream",
          "text": [
            "Go to this URL in a browser: https://accounts.google.com/o/oauth2/auth?client_id=947318989803-6bn6qk8qdgf4n4g3pfee6491hc0brc4i.apps.googleusercontent.com&redirect_uri=urn%3aietf%3awg%3aoauth%3a2.0%3aoob&response_type=code&scope=email%20https%3a%2f%2fwww.googleapis.com%2fauth%2fdocs.test%20https%3a%2f%2fwww.googleapis.com%2fauth%2fdrive%20https%3a%2f%2fwww.googleapis.com%2fauth%2fdrive.photos.readonly%20https%3a%2f%2fwww.googleapis.com%2fauth%2fpeopleapi.readonly\n",
            "\n",
            "Enter your authorization code:\n",
            "··········\n",
            "Mounted at /content/gdrive\n"
          ],
          "name": "stdout"
        }
      ]
    },
    {
      "cell_type": "code",
      "metadata": {
        "id": "Wu6CjEcjhBOu",
        "colab_type": "code",
        "outputId": "a7653a6c-3d03-4182-8c88-5ae5c19dab10",
        "colab": {
          "base_uri": "https://localhost:8080/",
          "height": 340
        }
      },
      "source": [
        "%%shell\n",
        "\n",
        "# Download TorchVision repo to use some files from\n",
        "# references/detection\n",
        "git clone https://github.com/pytorch/vision.git\n",
        "cd vision\n",
        "git checkout v0.3.0\n",
        "\n",
        "cp references/detection/utils.py ../\n",
        "cp references/detection/transforms.py ../\n",
        "cp references/detection/coco_eval.py ../\n",
        "cp references/detection/engine.py ../\n",
        "cp references/detection/coco_utils.py ../"
      ],
      "execution_count": 0,
      "outputs": [
        {
          "output_type": "stream",
          "text": [
            "Cloning into 'vision'...\n",
            "remote: Enumerating objects: 18, done.\u001b[K\n",
            "remote: Counting objects: 100% (18/18), done.\u001b[K\n",
            "remote: Compressing objects: 100% (18/18), done.\u001b[K\n",
            "remote: Total 7111 (delta 2), reused 2 (delta 0), pack-reused 7093\u001b[K\n",
            "Receiving objects: 100% (7111/7111), 9.86 MiB | 9.63 MiB/s, done.\n",
            "Resolving deltas: 100% (4801/4801), done.\n",
            "Note: checking out 'v0.3.0'.\n",
            "\n",
            "You are in 'detached HEAD' state. You can look around, make experimental\n",
            "changes and commit them, and you can discard any commits you make in this\n",
            "state without impacting any branches by performing another checkout.\n",
            "\n",
            "If you want to create a new branch to retain commits you create, you may\n",
            "do so (now or later) by using -b with the checkout command again. Example:\n",
            "\n",
            "  git checkout -b <new-branch-name>\n",
            "\n",
            "HEAD is now at be37608 version check against PyTorch's CUDA version\n"
          ],
          "name": "stdout"
        },
        {
          "output_type": "execute_result",
          "data": {
            "text/plain": [
              ""
            ]
          },
          "metadata": {
            "tags": []
          },
          "execution_count": 4
        }
      ]
    },
    {
      "cell_type": "code",
      "metadata": {
        "id": "f5kilgI_Jndy",
        "colab_type": "code",
        "colab": {}
      },
      "source": [
        "import numpy as np\n",
        "import pandas as pd\n",
        "import os\n",
        "import shutil\n",
        "from engine import train_one_epoch, evaluate\n",
        "import utils\n",
        "import transforms as T"
      ],
      "execution_count": 0,
      "outputs": []
    },
    {
      "cell_type": "code",
      "metadata": {
        "id": "la-rXmFUVEJs",
        "colab_type": "code",
        "colab": {}
      },
      "source": [
        "import re\n",
        "splitter = re.compile(\"\\s+\")"
      ],
      "execution_count": 0,
      "outputs": []
    },
    {
      "cell_type": "markdown",
      "metadata": {
        "id": "dmkpQI9C61Zn",
        "colab_type": "text"
      },
      "source": [
        "**Блок предобработки данных**\n",
        "> Это часть кода может быть непонятна. Но не стоит переживать. Тут я просто подготавливаю train к загрузке в нейронную сеть.\n",
        "\n"
      ]
    },
    {
      "cell_type": "code",
      "metadata": {
        "id": "y-J8DfLsX4xx",
        "colab_type": "code",
        "colab": {}
      },
      "source": [
        "base_path = '/content/gdrive/My Drive/Colab Notebooks/fashion_gcollab_jeans/'\n",
        "jeans_path = '/content/gdrive/My Drive/Colab Notebooks/fashion_gcollab_jeans/img/train/Jeans/'\n",
        "bbox_list_path = '/content/gdrive/My Drive/Colab Notebooks/fashion_gcollab_jeans/Anno/list_bbox.txt'"
      ],
      "execution_count": 0,
      "outputs": []
    },
    {
      "cell_type": "code",
      "metadata": {
        "id": "y8WvoiN4AhOd",
        "colab_type": "code",
        "colab": {}
      },
      "source": [
        "# Эта функция перераспределяет img в папках и меняет им названия\n",
        "def move_img(bbox_list_path, jeans_path, base_path):\n",
        "    with open(bbox_list_path, 'r') as bbox_file:\n",
        "        list_bbox_partition = [line.rstrip('\\n') for line in bbox_file][2:]\n",
        "        list_bbox_partition = [splitter.split(line) for line in list_bbox_partition]\n",
        "        print(list_bbox_partition[0])\n",
        "        print()\n",
        "        list_all=[]\n",
        "        for row in list_bbox_partition:\n",
        "            if row[0].split('/')[1].split('_')[-1] == 'Jeans':\n",
        "                list_all.append(row[0][:4] + 'train/Jeans/' + row[0][4:])\n",
        "        print()\n",
        "        print(list_all[0:2])\n",
        "    # этот цикл используется для наглядности\n",
        "    for row in list_all[:3]:\n",
        "        print(os.path.join(jeans_path, row.split('/')[-1]))\n",
        "        print(os.path.join(jeans_path, row.split('/')[-2] + '_' + row.split('/')[-1]))\n",
        "        print()\n",
        "    \n",
        "    for row in list_all:\n",
        "        if os.path.exists(os.path.join(base_path, row)):\n",
        "            shutil.move(os.path.join(base_path, row), jeans_path)\n",
        "            os.rename(os.path.join(jeans_path, row.split('/')[-1]), os.path.join(jeans_path, row.split('/')[-2] + '_' + row.split('/')[-1]))\n",
        "# move_img() # тут нехватает аргументов, намеренно, что бы не запускать функцию заново. Она уже отработала."
      ],
      "execution_count": 0,
      "outputs": []
    },
    {
      "cell_type": "code",
      "metadata": {
        "id": "VUP2WkU9Fjvt",
        "colab_type": "code",
        "colab": {}
      },
      "source": [
        "imgs = list(sorted(os.listdir('/content/gdrive/My Drive/Colab Notebooks/fashion_gcollab_jeans/img/train/Jeans')))"
      ],
      "execution_count": 0,
      "outputs": []
    },
    {
      "cell_type": "code",
      "metadata": {
        "id": "i_6_KwfaFj8B",
        "colab_type": "code",
        "colab": {}
      },
      "source": [
        "bbox_list_path = '/content/gdrive/My Drive/Colab Notebooks/fashion_gcollab_jeans/Anno/list_bbox.txt'\n",
        "with open(bbox_list_path, 'r') as bbox_file:\n",
        "    list_bbox_partition = [line.rstrip('\\n') for line in bbox_file][2:] # Разделим содержимое файла по строчка и в массив\n",
        "    list_bbox_partition = [splitter.split(line) for line in list_bbox_partition] # Разделим каждую строчку по пробелам. Получился массив массивов\n",
        "    jeans_all = [ line for line in list_bbox_partition if line[0].split('/')[1].split('_')[-1] == 'Jeans'] # из всех строчек остаим только Jeans\n",
        "    jeans_all = sorted(jeans_all) # отсортируем \n",
        "    name_img_bbox = [[line[0].split('/')[1] + '_' + line[0].split('/')[2], line[1], line[2], line[3], line[4]] for line in jeans_all] # оставим в строчках только название картинки и bbox"
      ],
      "execution_count": 0,
      "outputs": []
    },
    {
      "cell_type": "code",
      "metadata": {
        "id": "tN1QPeWgFj-6",
        "colab_type": "code",
        "colab": {}
      },
      "source": [
        "# В img_bbox будут хранится только те img-bbox, которые есть в Jeans\n",
        "img_bbox = [] \n",
        "for row in imgs:\n",
        "  for line in name_img_bbox:\n",
        "    if row == line[0]:\n",
        "      img_bbox.append(line)"
      ],
      "execution_count": 0,
      "outputs": []
    },
    {
      "cell_type": "code",
      "metadata": {
        "id": "kq3F3UhSbUPa",
        "colab_type": "code",
        "colab": {}
      },
      "source": [
        "# поэлементная проверка совпадения\n",
        "for n in range(5126):\n",
        "  if  not img_bbox[n][0] == imgs[n]: print('break')"
      ],
      "execution_count": 0,
      "outputs": []
    },
    {
      "cell_type": "markdown",
      "metadata": {
        "id": "pTXUFqnPem_x",
        "colab_type": "text"
      },
      "source": [
        "В итоге мы получили список содержащий в каждом елементе название картинки и bbox к ней."
      ]
    },
    {
      "cell_type": "code",
      "metadata": {
        "id": "9Ds9DphiFkBm",
        "colab_type": "code",
        "outputId": "0310af75-4124-4e9f-a914-b0e693f68e2b",
        "colab": {
          "base_uri": "https://localhost:8080/",
          "height": 34
        }
      },
      "source": [
        "img_bbox[10]"
      ],
      "execution_count": 0,
      "outputs": [
        {
          "output_type": "execute_result",
          "data": {
            "text/plain": [
              "['Acid_Wash_-_Skinny_Jeans_img_00000014.jpg', '059', '001', '195', '286']"
            ]
          },
          "metadata": {
            "tags": []
          },
          "execution_count": 12
        }
      ]
    },
    {
      "cell_type": "markdown",
      "metadata": {
        "id": "Z0ZDXavU3hSC",
        "colab_type": "text"
      },
      "source": [
        "Конец предобработки"
      ]
    },
    {
      "cell_type": "markdown",
      "metadata": {
        "id": "nImXu6-PgcBz",
        "colab_type": "text"
      },
      "source": [
        "# Напишем класс torch.utils.data.Dataset "
      ]
    },
    {
      "cell_type": "code",
      "metadata": {
        "id": "g4Xj02D0fDES",
        "colab_type": "code",
        "colab": {}
      },
      "source": [
        "import torch\n",
        "import torchvision\n",
        "import torch.utils.data\n",
        "import matplotlib.pyplot as plt\n",
        "from PIL import Image\n",
        "from torchvision import transforms, models"
      ],
      "execution_count": 0,
      "outputs": []
    },
    {
      "cell_type": "code",
      "metadata": {
        "id": "EN5nnmDYfDHC",
        "colab_type": "code",
        "colab": {}
      },
      "source": [
        "class data_jeans(torch.utils.data.Dataset):\n",
        "    def __init__(self, root, transforms=None):\n",
        "      self.root = root\n",
        "      self.img_bbox = img_bbox\n",
        "      self.transforms = transforms\n",
        "\n",
        "    def __getitem__(self, idx):\n",
        "      # получим изображения\n",
        "      img_path = os.path.join(self.root, \"train/Jeans\", self.img_bbox[idx][0])\n",
        "      img = Image.open(img_path).convert(\"RGB\")\n",
        "      # data_transforms = transforms.Compose([transforms.ToTensor()])\n",
        "      # img = data_transforms(img)\n",
        "      # получим bounding box`ы\n",
        "      boxes = img_bbox[idx][1:5]\n",
        "      boxes = [float(coodinate) for coodinate in boxes]\n",
        "      boxes = [boxes]\n",
        "      boxes = torch.as_tensor(boxes, dtype=torch.float32)\n",
        "      \n",
        "      label = torch.ones((1,), dtype=torch.int64)\n",
        "\n",
        "      target = {}\n",
        "      target['boxes'] = boxes\n",
        "      target['labels'] = label\n",
        "      \n",
        "      if self.transforms is not None:\n",
        "          img, target = self.transforms(img, target)\n",
        "\n",
        "      return img, target\n",
        "    def __len__(self):\n",
        "      return len(self.img_bbox)"
      ],
      "execution_count": 0,
      "outputs": []
    },
    {
      "cell_type": "code",
      "metadata": {
        "id": "AMwZOvCUjsay",
        "colab_type": "code",
        "colab": {}
      },
      "source": [
        "def get_transform(train):\n",
        "    transforms = []\n",
        "    transforms.append(T.ToTensor())\n",
        "    return T.Compose(transforms)"
      ],
      "execution_count": 0,
      "outputs": []
    },
    {
      "cell_type": "markdown",
      "metadata": {
        "id": "VuNL_bTrYGx9",
        "colab_type": "text"
      },
      "source": [
        "/////-----------------------Соберём *модель*-------------------------/////"
      ]
    },
    {
      "cell_type": "code",
      "metadata": {
        "id": "zTwNjYjcTEJd",
        "colab_type": "code",
        "colab": {}
      },
      "source": [
        "from torchvision.models.detection.faster_rcnn import FastRCNNPredictor\n",
        "\n",
        "def get_model(num_classes):\n",
        "    # load an instance segmentation model pre-trained on COCO\n",
        "    model = torchvision.models.detection.fasterrcnn_resnet50_fpn(pretrained=False)\n",
        "    in_features = model.roi_heads.box_predictor.cls_score.in_features\n",
        "    # replace the pre-trained head with a new one\n",
        "    model.roi_heads.box_predictor = FastRCNNPredictor(in_features, num_classes)\n",
        "    return model"
      ],
      "execution_count": 0,
      "outputs": []
    },
    {
      "cell_type": "code",
      "metadata": {
        "id": "bLw9bFALTESQ",
        "colab_type": "code",
        "colab": {}
      },
      "source": [
        "# Подготовка данных к загрузке \n",
        "root = '/content/gdrive/My Drive/Colab Notebooks/fashion_gcollab_jeans/img'\n",
        "# dataset = data_jeans(root, )\n",
        "dataset = data_jeans(root, get_transform(train=True))\n",
        "data_loader = torch.utils.data.DataLoader(dataset, batch_size=2, shuffle=True, num_workers=8, collate_fn=utils.collate_fn)"
      ],
      "execution_count": 0,
      "outputs": []
    },
    {
      "cell_type": "code",
      "metadata": {
        "id": "X3Ydb2kF-gco",
        "colab_type": "code",
        "outputId": "2dc0691b-f13b-4a9e-f7f7-85b54a53160d",
        "colab": {
          "base_uri": "https://localhost:8080/",
          "height": 425
        }
      },
      "source": [
        "dataset[0]"
      ],
      "execution_count": 0,
      "outputs": [
        {
          "output_type": "execute_result",
          "data": {
            "text/plain": [
              "(tensor([[[0.6588, 0.6588, 0.6588,  ..., 0.6588, 0.6588, 0.6588],\n",
              "          [0.6588, 0.6588, 0.6588,  ..., 0.6588, 0.6588, 0.6588],\n",
              "          [0.6588, 0.6588, 0.6588,  ..., 0.6588, 0.6588, 0.6588],\n",
              "          ...,\n",
              "          [0.7765, 0.7765, 0.7765,  ..., 0.7725, 0.7725, 0.7725],\n",
              "          [0.7882, 0.7882, 0.7882,  ..., 0.7922, 0.7922, 0.7922],\n",
              "          [0.8314, 0.8314, 0.8314,  ..., 0.8314, 0.8314, 0.8314]],\n",
              " \n",
              "         [[0.6745, 0.6745, 0.6745,  ..., 0.6745, 0.6745, 0.6745],\n",
              "          [0.6745, 0.6745, 0.6745,  ..., 0.6745, 0.6745, 0.6745],\n",
              "          [0.6745, 0.6745, 0.6745,  ..., 0.6745, 0.6745, 0.6745],\n",
              "          ...,\n",
              "          [0.7922, 0.7922, 0.7922,  ..., 0.7882, 0.7882, 0.7882],\n",
              "          [0.8039, 0.8039, 0.8039,  ..., 0.8078, 0.8078, 0.8078],\n",
              "          [0.8471, 0.8471, 0.8471,  ..., 0.8471, 0.8471, 0.8471]],\n",
              " \n",
              "         [[0.6863, 0.6863, 0.6863,  ..., 0.6863, 0.6863, 0.6863],\n",
              "          [0.6863, 0.6863, 0.6863,  ..., 0.6863, 0.6863, 0.6863],\n",
              "          [0.6863, 0.6863, 0.6863,  ..., 0.6863, 0.6863, 0.6863],\n",
              "          ...,\n",
              "          [0.8039, 0.8039, 0.8039,  ..., 0.8000, 0.8000, 0.8000],\n",
              "          [0.8157, 0.8157, 0.8157,  ..., 0.8196, 0.8196, 0.8196],\n",
              "          [0.8588, 0.8588, 0.8588,  ..., 0.8588, 0.8588, 0.8588]]]),\n",
              " {'boxes': tensor([[ 71.,   1., 179., 300.]]), 'labels': tensor([1])})"
            ]
          },
          "metadata": {
            "tags": []
          },
          "execution_count": 18
        }
      ]
    },
    {
      "cell_type": "markdown",
      "metadata": {
        "id": "m54nX47-plx7",
        "colab_type": "text"
      },
      "source": [
        "////------------------Выберем гиперпараметры-------------------/////"
      ]
    },
    {
      "cell_type": "code",
      "metadata": {
        "id": "zjKzij8sUH5h",
        "colab_type": "code",
        "colab": {}
      },
      "source": [
        "# Выберем устройство для расчёта\n",
        "device = torch.device('cuda') if torch.cuda.is_available() else torch.device('cpu')"
      ],
      "execution_count": 0,
      "outputs": []
    },
    {
      "cell_type": "code",
      "metadata": {
        "id": "AJdfR40my0VD",
        "colab_type": "code",
        "colab": {}
      },
      "source": [
        "num_classes = 2 # Колличество классов, которых хотим получить\n",
        "model = get_model(num_classes)\n",
        "model.to(device)\n",
        "params = [p for p in model.parameters() if p.requires_grad]\n",
        "optimizer = torch.optim.SGD(params, lr=0.005, momentum=0.9, weight_decay=0.0005)\n",
        "lr_scheduler = torch.optim.lr_scheduler.StepLR(optimizer, step_size=3, gamma=0.1)"
      ],
      "execution_count": 0,
      "outputs": []
    },
    {
      "cell_type": "code",
      "metadata": {
        "id": "iMyff9tZdHnd",
        "colab_type": "code",
        "colab": {}
      },
      "source": [
        "num_epochs = 10\n",
        "\n",
        "for epoch in range(num_epochs):\n",
        "    train_one_epoch(model, optimizer, data_loader, device, epoch, print_freq=100)\n",
        "    lr_scheduler.step()"
      ],
      "execution_count": 0,
      "outputs": []
    },
    {
      "cell_type": "code",
      "metadata": {
        "id": "nK7DDfp_WOWL",
        "colab_type": "code",
        "colab": {}
      },
      "source": [
        "# Сохраним модель\n",
        "# torch.save(model, '/content/gdrive/My Drive/Colab Notebooks/checkpoint2.pth')"
      ],
      "execution_count": 0,
      "outputs": []
    },
    {
      "cell_type": "code",
      "metadata": {
        "id": "AVkFHe9AgatA",
        "colab_type": "code",
        "colab": {}
      },
      "source": [
        "# Загрузим модель\n",
        "the_model = torch.load('/content/gdrive/My Drive/Colab Notebooks/checkpoint2.pth')"
      ],
      "execution_count": 0,
      "outputs": []
    },
    {
      "cell_type": "markdown",
      "metadata": {
        "id": "SVZTbbORhXlg",
        "colab_type": "text"
      },
      "source": [
        "**Тестируем модель**"
      ]
    },
    {
      "cell_type": "code",
      "metadata": {
        "id": "dG1pXW1Xhm27",
        "colab_type": "code",
        "colab": {}
      },
      "source": [
        "data_transforms = transforms.Compose([transforms.ToTensor()])\n",
        "img = Image.open('/content/gdrive/My Drive/Colab Notebooks/fashion_gcollab_jeans/img/test/img_00000032.jpg').convert(\"RGB\")\n",
        "img = data_transforms(img)\n",
        "# переведём модель в режим оценки\n",
        "the_model.eval()\n",
        "with torch.no_grad():\n",
        "    prediction = the_model([img.to(device)])"
      ],
      "execution_count": 0,
      "outputs": []
    },
    {
      "cell_type": "code",
      "metadata": {
        "id": "lOUWc76pfDRf",
        "colab_type": "code",
        "colab": {}
      },
      "source": [
        "import cv2  "
      ],
      "execution_count": 0,
      "outputs": []
    },
    {
      "cell_type": "code",
      "metadata": {
        "id": "GFf5ZyM25OUz",
        "colab_type": "code",
        "outputId": "9da32a06-8262-41ee-a032-03a215471319",
        "colab": {
          "base_uri": "https://localhost:8080/",
          "height": 34
        }
      },
      "source": [
        "device_cpu = torch.device('cpu')\n",
        "coordinates = prediction[0]['boxes'].to(device_cpu)\n",
        "coordinates = coordinates[0].numpy()\n",
        "x_min = int(coordinates[0])\n",
        "y_min = int(coordinates[1])\n",
        "x_max = int(coordinates[2])\n",
        "y_max = int(coordinates[3])\n",
        "print(x_min, y_min, x_max, y_max)"
      ],
      "execution_count": 0,
      "outputs": [
        {
          "output_type": "stream",
          "text": [
            "116 120 180 280\n"
          ],
          "name": "stdout"
        }
      ]
    },
    {
      "cell_type": "code",
      "metadata": {
        "id": "o1N-kLxo2-Ev",
        "colab_type": "code",
        "outputId": "71d61c2c-db98-4053-dae3-b44d71ab3cf9",
        "colab": {
          "base_uri": "https://localhost:8080/",
          "height": 286
        }
      },
      "source": [
        "path_test_img = '/content/gdrive/My Drive/Colab Notebooks/fashion_gcollab_jeans/img/test/img_00000032.jpg'\n",
        "image = cv2.imread(path_test_img)\n",
        "rgb_image = cv2.cvtColor(image, cv2.COLOR_BGR2RGB)\n",
        "start_point = (x_min, y_min)\n",
        "end_point = (x_max, y_max)\n",
        "color = (255, 0, 0)\n",
        "thickness = 3\n",
        "image = cv2.rectangle(rgb_image, start_point, end_point, color, thickness)\n",
        "plt.imshow(image)"
      ],
      "execution_count": 0,
      "outputs": [
        {
          "output_type": "execute_result",
          "data": {
            "text/plain": [
              "<matplotlib.image.AxesImage at 0x7f319a543828>"
            ]
          },
          "metadata": {
            "tags": []
          },
          "execution_count": 26
        },
        {
          "output_type": "display_data",
          "data": {
            "image/png": "[encoded data removed]",
            "text/plain": [
              "<Figure size 432x288 with 1 Axes>"
            ]
          },
          "metadata": {
            "tags": []
          }
        }
      ]
    }
  ]
}